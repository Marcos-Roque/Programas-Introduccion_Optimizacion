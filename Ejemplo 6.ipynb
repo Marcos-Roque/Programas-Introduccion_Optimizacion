#Programa que compruebe mediante una gráfica los puntos de inflexión de la función f(x), 
#implementar la primera, segunda derivada y condiciones de inflexión.
#f(x)=(x^4)/12 - (x^3)/2 + x^2 + 10 
import numpy as np
import matplotlib.pyplot as plt

def f1(x):
    return ((x*x*x*x)/12) - ((x*x*x)/2) + (x*x) + 10
def f1_1a(x):
    return ((x*x*x)/3) - ((3*x*x)/2) + (2*x)
def f1_2a(x):
    return (x*x) - (3*x) + 2 
#f''(x) = 0 cuando x = 1 y x = 2 ya que (x - 1)(x - 2) = 0
#Para x = 1, f''(x) se evalúa a la izquierda y a la derecha de x = 1 cuando x = 0.9 y x = 1.1.
#Para x = 2, f''(x) se evalúa a la izquierda y a la derecha de x = 2 cuando x = 1.9 y x = 2.1.
# comprobacion: en los dos casos cambian de signo por lo que existe punto de inflexion
x = np.linspace(-3, 4, 15) #f''(0.9) = 0.11 > 0   #f''(1.1) = -0.09 < 0

for x_ in x:
    print( x_, 'f(0)=0 -> punto de inflexión' if f1_2a(x_)==0 else 'Positivo' if f1_2a(x_)>0 else 'Negativo' if f1_2a(x_)<0 else '')
y = f1(x)
#Existe punto de inflexion cuando x = 1 y x = 2 ,por que al sustituir los valores cambia su signo en 
#ambos lados
plt.title(r"Grafica de $f(x)=x^4/12 - x^3/2 + x^2 + 10$")
plt.plot(x, y)
plt.plot(0,10,'bo',label='punto fijo')
plt.show()
