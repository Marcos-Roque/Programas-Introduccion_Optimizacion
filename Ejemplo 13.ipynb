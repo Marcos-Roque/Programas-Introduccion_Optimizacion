#Ejemplo 13. Programa que compruebe mediante una gráfica los puntos críticos y su concavidad, 
#implementar la primera, segunda derivada, las condiciones de punto crítico y de concavidad.
#f(x)=(x^4)/4 - (9x^2)/2
import numpy as np
import matplotlib.pyplot as plt


def f1(x):
    return ((x*x*x*x)/4) - ((9*x*x)/2)
def f1_1a(x):
    return (x*x*x) - (9*x)
def f1_2a(x):
    return (3*x*x) - 9 
#f'(a) = 0 , o cuando f'(a) no esta definida : x = a
#Si f''(x) < 0:la gráfica de f será cóncava hacia abajo.
#Si f''(x) > 0:la gráfica de f será cóncava hacia arriba.
#Si f''(x) = 0:en cualquier punto x=c en el dominio de f, no puede sacarse conclusión alguna sobre la concavidad en [c, f (c)].
x  = np.linspace(-4, 4, 20) 

for x_ in x:
    print( x_, 'f´(a)=0 -> Punto critico' if f1_1a(x_)==0 else 'Concava hacia arriba' if f1_2a(x_)>0 else 'Concava hacia abajo' if f1_2a(x_)<0 else '')
y = f1(x)
plt.title(r"Grafica de $f(x)=x^4/4 - 9x^2/2 $")
plt.plot(x, y)
plt.plot(0,0,'bo',label='punto fijo')
plt.show()
